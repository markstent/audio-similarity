{
 "cells": [
  {
   "cell_type": "code",
   "execution_count": 2,
   "metadata": {},
   "outputs": [],
   "source": [
    "import os\n",
    "import sys\n",
    "#import pandas as pd\n",
    "\n",
    "import warnings\n",
    "warnings.filterwarnings('ignore')\n",
    "\n",
    "# Get the parent directory of the current file\n",
    "current_dir = os.getcwd()\n",
    "parent_dir = os.path.dirname(current_dir)\n",
    "\n",
    "# Add the parent directory to sys.path\n",
    "sys.path.append(parent_dir)\n",
    "\n",
    "from audio_similarity.audio_similarity import AudioSimilarity"
   ]
  },
  {
   "cell_type": "code",
   "execution_count": null,
   "metadata": {},
   "outputs": [],
   "source": [
    "original_audio = '/Users/mark.stent/Dropbox/Data_Science/Python/audio_similarity/audio/original'  # Load the original audio data as a numpy array\n",
    "compare_audio = '/Users/mark.stent/Dropbox/Data_Science/Python/audio_similarity/audio/compare'  # Load the generated audio data as a numpy array\n",
    "sr = 22050"
   ]
  },
  {
   "cell_type": "code",
   "execution_count": null,
   "metadata": {},
   "outputs": [],
   "source": [
    "# Create an instance of AudioSimilarity with custom weights in dictionary (optional)\n",
    "weights_dict = {\n",
    "    'zcr_similarity': 0.3,\n",
    "    'rhythm_similarity': 0.2,\n",
    "    'chroma_similarity': 0.15,\n",
    "    'energy_envelope_similarity': 0.15,\n",
    "    'spectral_contrast_similarity': 0.1,\n",
    "    'perceptual_similarity': 0.1\n",
    "}\n",
    "# Create an instance of AudioSimilarity with custom weights in list (optional)\n",
    "weights_list = [0.3, 0.2, 0.15, 0.15, 0.1, 0.1]"
   ]
  },
  {
   "cell_type": "code",
   "execution_count": null,
   "metadata": {},
   "outputs": [],
   "source": [
    "audio_similarity = AudioSimilarity(original_audio, compare_audio, sr, weights_dict, verbose=True, sample_size=2)"
   ]
  },
  {
   "cell_type": "code",
   "execution_count": null,
   "metadata": {},
   "outputs": [],
   "source": [
    "# Calculate all metrics as dictionary and display in a Pandas dataframe\n",
    "\n",
    "metric_dict = audio_similarity.stent_weighted_audio_similarity(metrics='all')\n",
    "df = pd.DataFrame.from_dict(metric_dict, orient='index', columns=['Value'])\n",
    "df = df.rename_axis('Metric')\n",
    "df"
   ]
  },
  {
   "cell_type": "code",
   "execution_count": null,
   "metadata": {},
   "outputs": [],
   "source": [
    "\n",
    "audio_similarity.plot(metrics=None,\n",
    "                      option='all',\n",
    "                      figsize=(10, 7),\n",
    "                      color1='red',\n",
    "                      color2='green',\n",
    "                      dpi=100,\n",
    "                      savefig=False,\n",
    "                      fontsize=6,\n",
    "                      label_fontsize=8,\n",
    "                      title_fontsize=14, \n",
    "                      alpha=0.5, title='Audio Similarity Metrics')"
   ]
  },
  {
   "cell_type": "code",
   "execution_count": null,
   "metadata": {},
   "outputs": [],
   "source": []
  }
 ],
 "metadata": {
  "kernelspec": {
   "display_name": "swass",
   "language": "python",
   "name": "python3"
  },
  "language_info": {
   "codemirror_mode": {
    "name": "ipython",
    "version": 3
   },
   "file_extension": ".py",
   "mimetype": "text/x-python",
   "name": "python",
   "nbconvert_exporter": "python",
   "pygments_lexer": "ipython3",
   "version": "3.11.3"
  },
  "orig_nbformat": 4
 },
 "nbformat": 4,
 "nbformat_minor": 2
}
